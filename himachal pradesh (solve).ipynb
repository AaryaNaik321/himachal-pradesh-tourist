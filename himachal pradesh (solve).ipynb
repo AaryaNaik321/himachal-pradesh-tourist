{
 "cells": [
  {
   "cell_type": "code",
   "execution_count": 1,
   "metadata": {},
   "outputs": [],
   "source": [
    "import os\n",
    "import pandas as pd\n",
    "import numpy as np\n",
    "import matplotlib.pyplot as plt \n",
    "import seaborn as sns"
   ]
  },
  {
   "cell_type": "code",
   "execution_count": 2,
   "metadata": {},
   "outputs": [],
   "source": [
    "os.chdir('C:/Users/saksh/OneDrive/Desktop/pratice/himachal preadesh')"
   ]
  },
  {
   "cell_type": "code",
   "execution_count": 3,
   "metadata": {},
   "outputs": [],
   "source": [
    "df1 = pd.read_csv('Number-of-Tourist-Visited-in-Himachal-Pradesh-during-2021.csv')"
   ]
  },
  {
   "cell_type": "code",
   "execution_count": 4,
   "metadata": {},
   "outputs": [
    {
     "data": {
      "text/html": [
       "<div>\n",
       "<style scoped>\n",
       "    .dataframe tbody tr th:only-of-type {\n",
       "        vertical-align: middle;\n",
       "    }\n",
       "\n",
       "    .dataframe tbody tr th {\n",
       "        vertical-align: top;\n",
       "    }\n",
       "\n",
       "    .dataframe thead th {\n",
       "        text-align: right;\n",
       "    }\n",
       "</style>\n",
       "<table border=\"1\" class=\"dataframe\">\n",
       "  <thead>\n",
       "    <tr style=\"text-align: right;\">\n",
       "      <th></th>\n",
       "      <th>State</th>\n",
       "      <th>District</th>\n",
       "      <th>Domestic</th>\n",
       "      <th>Foreigner</th>\n",
       "      <th>Total</th>\n",
       "    </tr>\n",
       "  </thead>\n",
       "  <tbody>\n",
       "    <tr>\n",
       "      <th>0</th>\n",
       "      <td>Himachal Pradesh</td>\n",
       "      <td>Bilaspur</td>\n",
       "      <td>2,53,510</td>\n",
       "      <td>0</td>\n",
       "      <td>2,53,510</td>\n",
       "    </tr>\n",
       "    <tr>\n",
       "      <th>1</th>\n",
       "      <td>Himachal Pradesh</td>\n",
       "      <td>Chamba</td>\n",
       "      <td>2,21,819</td>\n",
       "      <td>69</td>\n",
       "      <td>2,21,888</td>\n",
       "    </tr>\n",
       "    <tr>\n",
       "      <th>2</th>\n",
       "      <td>Himachal Pradesh</td>\n",
       "      <td>Hamirpur</td>\n",
       "      <td>60,123</td>\n",
       "      <td>1</td>\n",
       "      <td>60,124</td>\n",
       "    </tr>\n",
       "    <tr>\n",
       "      <th>3</th>\n",
       "      <td>Himachal Pradesh</td>\n",
       "      <td>Kangra</td>\n",
       "      <td>2,34,251</td>\n",
       "      <td>2,701</td>\n",
       "      <td>2,36,952</td>\n",
       "    </tr>\n",
       "    <tr>\n",
       "      <th>4</th>\n",
       "      <td>Himachal Pradesh</td>\n",
       "      <td>Kinnaur</td>\n",
       "      <td>59,961</td>\n",
       "      <td>109</td>\n",
       "      <td>60,070</td>\n",
       "    </tr>\n",
       "  </tbody>\n",
       "</table>\n",
       "</div>"
      ],
      "text/plain": [
       "              State  District  Domestic Foreigner     Total\n",
       "0  Himachal Pradesh  Bilaspur  2,53,510         0  2,53,510\n",
       "1  Himachal Pradesh    Chamba  2,21,819        69  2,21,888\n",
       "2  Himachal Pradesh  Hamirpur    60,123         1    60,124\n",
       "3  Himachal Pradesh    Kangra  2,34,251     2,701  2,36,952\n",
       "4  Himachal Pradesh   Kinnaur    59,961       109    60,070"
      ]
     },
     "execution_count": 4,
     "metadata": {},
     "output_type": "execute_result"
    }
   ],
   "source": [
    "df1.head()"
   ]
  },
  {
   "cell_type": "code",
   "execution_count": 5,
   "metadata": {},
   "outputs": [],
   "source": [
    "df2 = df1.iloc[:7,:]"
   ]
  },
  {
   "cell_type": "code",
   "execution_count": 6,
   "metadata": {},
   "outputs": [
    {
     "data": {
      "text/html": [
       "<div>\n",
       "<style scoped>\n",
       "    .dataframe tbody tr th:only-of-type {\n",
       "        vertical-align: middle;\n",
       "    }\n",
       "\n",
       "    .dataframe tbody tr th {\n",
       "        vertical-align: top;\n",
       "    }\n",
       "\n",
       "    .dataframe thead th {\n",
       "        text-align: right;\n",
       "    }\n",
       "</style>\n",
       "<table border=\"1\" class=\"dataframe\">\n",
       "  <thead>\n",
       "    <tr style=\"text-align: right;\">\n",
       "      <th></th>\n",
       "      <th>State</th>\n",
       "      <th>District</th>\n",
       "      <th>Domestic</th>\n",
       "      <th>Foreigner</th>\n",
       "      <th>Total</th>\n",
       "    </tr>\n",
       "  </thead>\n",
       "  <tbody>\n",
       "    <tr>\n",
       "      <th>0</th>\n",
       "      <td>Himachal Pradesh</td>\n",
       "      <td>Bilaspur</td>\n",
       "      <td>2,53,510</td>\n",
       "      <td>0</td>\n",
       "      <td>2,53,510</td>\n",
       "    </tr>\n",
       "    <tr>\n",
       "      <th>1</th>\n",
       "      <td>Himachal Pradesh</td>\n",
       "      <td>Chamba</td>\n",
       "      <td>2,21,819</td>\n",
       "      <td>69</td>\n",
       "      <td>2,21,888</td>\n",
       "    </tr>\n",
       "    <tr>\n",
       "      <th>2</th>\n",
       "      <td>Himachal Pradesh</td>\n",
       "      <td>Hamirpur</td>\n",
       "      <td>60,123</td>\n",
       "      <td>1</td>\n",
       "      <td>60,124</td>\n",
       "    </tr>\n",
       "    <tr>\n",
       "      <th>3</th>\n",
       "      <td>Himachal Pradesh</td>\n",
       "      <td>Kangra</td>\n",
       "      <td>2,34,251</td>\n",
       "      <td>2,701</td>\n",
       "      <td>2,36,952</td>\n",
       "    </tr>\n",
       "    <tr>\n",
       "      <th>4</th>\n",
       "      <td>Himachal Pradesh</td>\n",
       "      <td>Kinnaur</td>\n",
       "      <td>59,961</td>\n",
       "      <td>109</td>\n",
       "      <td>60,070</td>\n",
       "    </tr>\n",
       "    <tr>\n",
       "      <th>5</th>\n",
       "      <td>Himachal Pradesh</td>\n",
       "      <td>Kullu</td>\n",
       "      <td>16,47,329</td>\n",
       "      <td>252</td>\n",
       "      <td>16,47,581</td>\n",
       "    </tr>\n",
       "    <tr>\n",
       "      <th>6</th>\n",
       "      <td>Himachal Pradesh</td>\n",
       "      <td>Lahaul-spiti</td>\n",
       "      <td>9,60,532</td>\n",
       "      <td>420</td>\n",
       "      <td>9,60,952</td>\n",
       "    </tr>\n",
       "  </tbody>\n",
       "</table>\n",
       "</div>"
      ],
      "text/plain": [
       "              State      District   Domestic Foreigner      Total\n",
       "0  Himachal Pradesh      Bilaspur   2,53,510         0   2,53,510\n",
       "1  Himachal Pradesh        Chamba   2,21,819        69   2,21,888\n",
       "2  Himachal Pradesh      Hamirpur     60,123         1     60,124\n",
       "3  Himachal Pradesh        Kangra   2,34,251     2,701   2,36,952\n",
       "4  Himachal Pradesh       Kinnaur     59,961       109     60,070\n",
       "5  Himachal Pradesh         Kullu  16,47,329       252  16,47,581\n",
       "6  Himachal Pradesh  Lahaul-spiti   9,60,532       420   9,60,952"
      ]
     },
     "execution_count": 6,
     "metadata": {},
     "output_type": "execute_result"
    }
   ],
   "source": [
    "df2"
   ]
  },
  {
   "cell_type": "code",
   "execution_count": 7,
   "metadata": {},
   "outputs": [
    {
     "data": {
      "text/plain": [
       "0     2,53,510\n",
       "1     2,21,819\n",
       "2       60,123\n",
       "3     2,34,251\n",
       "4       59,961\n",
       "5    16,47,329\n",
       "6     9,60,532\n",
       "Name: Domestic, dtype: object"
      ]
     },
     "execution_count": 7,
     "metadata": {},
     "output_type": "execute_result"
    }
   ],
   "source": [
    "df2['Domestic']\n"
   ]
  },
  {
   "cell_type": "code",
   "execution_count": 8,
   "metadata": {},
   "outputs": [
    {
     "data": {
      "text/plain": [
       "0     2,53,510\n",
       "1     2,21,888\n",
       "2       60,124\n",
       "3     2,36,952\n",
       "4       60,070\n",
       "5    16,47,581\n",
       "6     9,60,952\n",
       "Name: Total, dtype: object"
      ]
     },
     "execution_count": 8,
     "metadata": {},
     "output_type": "execute_result"
    }
   ],
   "source": [
    "df2['Total']"
   ]
  },
  {
   "cell_type": "code",
   "execution_count": 10,
   "metadata": {},
   "outputs": [
    {
     "data": {
      "text/html": [
       "<div>\n",
       "<style scoped>\n",
       "    .dataframe tbody tr th:only-of-type {\n",
       "        vertical-align: middle;\n",
       "    }\n",
       "\n",
       "    .dataframe tbody tr th {\n",
       "        vertical-align: top;\n",
       "    }\n",
       "\n",
       "    .dataframe thead th {\n",
       "        text-align: right;\n",
       "    }\n",
       "</style>\n",
       "<table border=\"1\" class=\"dataframe\">\n",
       "  <thead>\n",
       "    <tr style=\"text-align: right;\">\n",
       "      <th></th>\n",
       "      <th>State</th>\n",
       "      <th>District</th>\n",
       "      <th>Domestic</th>\n",
       "      <th>Foreigner</th>\n",
       "      <th>Total</th>\n",
       "    </tr>\n",
       "  </thead>\n",
       "  <tbody>\n",
       "    <tr>\n",
       "      <th>count</th>\n",
       "      <td>7</td>\n",
       "      <td>7</td>\n",
       "      <td>7</td>\n",
       "      <td>7</td>\n",
       "      <td>7</td>\n",
       "    </tr>\n",
       "    <tr>\n",
       "      <th>unique</th>\n",
       "      <td>1</td>\n",
       "      <td>7</td>\n",
       "      <td>7</td>\n",
       "      <td>7</td>\n",
       "      <td>7</td>\n",
       "    </tr>\n",
       "    <tr>\n",
       "      <th>top</th>\n",
       "      <td>Himachal Pradesh</td>\n",
       "      <td>Bilaspur</td>\n",
       "      <td>2,53,510</td>\n",
       "      <td>0</td>\n",
       "      <td>2,53,510</td>\n",
       "    </tr>\n",
       "    <tr>\n",
       "      <th>freq</th>\n",
       "      <td>7</td>\n",
       "      <td>1</td>\n",
       "      <td>1</td>\n",
       "      <td>1</td>\n",
       "      <td>1</td>\n",
       "    </tr>\n",
       "  </tbody>\n",
       "</table>\n",
       "</div>"
      ],
      "text/plain": [
       "                   State  District  Domestic Foreigner     Total\n",
       "count                  7         7         7         7         7\n",
       "unique                 1         7         7         7         7\n",
       "top     Himachal Pradesh  Bilaspur  2,53,510         0  2,53,510\n",
       "freq                   7         1         1         1         1"
      ]
     },
     "execution_count": 10,
     "metadata": {},
     "output_type": "execute_result"
    }
   ],
   "source": [
    "df2.describe()"
   ]
  },
  {
   "cell_type": "code",
   "execution_count": 11,
   "metadata": {},
   "outputs": [
    {
     "data": {
      "text/plain": [
       "array(['Bilaspur', 'Chamba', 'Hamirpur', 'Kangra', 'Kinnaur', 'Kullu',\n",
       "       'Lahaul-spiti'], dtype=object)"
      ]
     },
     "execution_count": 11,
     "metadata": {},
     "output_type": "execute_result"
    }
   ],
   "source": [
    "df2['District'].unique()"
   ]
  },
  {
   "cell_type": "code",
   "execution_count": 21,
   "metadata": {},
   "outputs": [
    {
     "name": "stderr",
     "output_type": "stream",
     "text": [
      "C:\\Users\\saksh\\AppData\\Local\\Temp\\ipykernel_22600\\3037751538.py:1: SettingWithCopyWarning: \n",
      "A value is trying to be set on a copy of a slice from a DataFrame.\n",
      "Try using .loc[row_indexer,col_indexer] = value instead\n",
      "\n",
      "See the caveats in the documentation: https://pandas.pydata.org/pandas-docs/stable/user_guide/indexing.html#returning-a-view-versus-a-copy\n",
      "  df2['Domestic'] = df2['Domestic'].str.replace(\",\",\"\")\n"
     ]
    }
   ],
   "source": [
    "df2['Domestic'] = df2['Domestic'].str.replace(\",\",\"\")"
   ]
  },
  {
   "cell_type": "code",
   "execution_count": 26,
   "metadata": {},
   "outputs": [
    {
     "name": "stderr",
     "output_type": "stream",
     "text": [
      "C:\\Users\\saksh\\AppData\\Local\\Temp\\ipykernel_22600\\1565024941.py:1: SettingWithCopyWarning: \n",
      "A value is trying to be set on a copy of a slice from a DataFrame.\n",
      "Try using .loc[row_indexer,col_indexer] = value instead\n",
      "\n",
      "See the caveats in the documentation: https://pandas.pydata.org/pandas-docs/stable/user_guide/indexing.html#returning-a-view-versus-a-copy\n",
      "  df2['Total'] = df2['Total'].str.replace(\",\",\"\")\n"
     ]
    }
   ],
   "source": [
    "\n",
    "\n",
    "\n",
    "df2['Total'] = df2['Total'].str.replace(\",\",\"\")"
   ]
  },
  {
   "cell_type": "code",
   "execution_count": 37,
   "metadata": {},
   "outputs": [
    {
     "data": {
      "text/html": [
       "<div>\n",
       "<style scoped>\n",
       "    .dataframe tbody tr th:only-of-type {\n",
       "        vertical-align: middle;\n",
       "    }\n",
       "\n",
       "    .dataframe tbody tr th {\n",
       "        vertical-align: top;\n",
       "    }\n",
       "\n",
       "    .dataframe thead th {\n",
       "        text-align: right;\n",
       "    }\n",
       "</style>\n",
       "<table border=\"1\" class=\"dataframe\">\n",
       "  <thead>\n",
       "    <tr style=\"text-align: right;\">\n",
       "      <th></th>\n",
       "      <th>State</th>\n",
       "      <th>District</th>\n",
       "      <th>Domestic</th>\n",
       "      <th>Foreigner</th>\n",
       "      <th>Total</th>\n",
       "      <th>total</th>\n",
       "    </tr>\n",
       "  </thead>\n",
       "  <tbody>\n",
       "    <tr>\n",
       "      <th>0</th>\n",
       "      <td>Himachal Pradesh</td>\n",
       "      <td>Bilaspur</td>\n",
       "      <td>253510</td>\n",
       "      <td>0</td>\n",
       "      <td>253510</td>\n",
       "      <td>253510</td>\n",
       "    </tr>\n",
       "    <tr>\n",
       "      <th>1</th>\n",
       "      <td>Himachal Pradesh</td>\n",
       "      <td>Chamba</td>\n",
       "      <td>221819</td>\n",
       "      <td>69</td>\n",
       "      <td>221888</td>\n",
       "      <td>221888</td>\n",
       "    </tr>\n",
       "    <tr>\n",
       "      <th>2</th>\n",
       "      <td>Himachal Pradesh</td>\n",
       "      <td>Hamirpur</td>\n",
       "      <td>60123</td>\n",
       "      <td>1</td>\n",
       "      <td>60124</td>\n",
       "      <td>60124</td>\n",
       "    </tr>\n",
       "    <tr>\n",
       "      <th>3</th>\n",
       "      <td>Himachal Pradesh</td>\n",
       "      <td>Kangra</td>\n",
       "      <td>234251</td>\n",
       "      <td>2,701</td>\n",
       "      <td>236952</td>\n",
       "      <td>236952</td>\n",
       "    </tr>\n",
       "    <tr>\n",
       "      <th>4</th>\n",
       "      <td>Himachal Pradesh</td>\n",
       "      <td>Kinnaur</td>\n",
       "      <td>59961</td>\n",
       "      <td>109</td>\n",
       "      <td>60070</td>\n",
       "      <td>60070</td>\n",
       "    </tr>\n",
       "    <tr>\n",
       "      <th>5</th>\n",
       "      <td>Himachal Pradesh</td>\n",
       "      <td>Kullu</td>\n",
       "      <td>1647329</td>\n",
       "      <td>252</td>\n",
       "      <td>1647581</td>\n",
       "      <td>1647581</td>\n",
       "    </tr>\n",
       "    <tr>\n",
       "      <th>6</th>\n",
       "      <td>Himachal Pradesh</td>\n",
       "      <td>Lahaul-spiti</td>\n",
       "      <td>960532</td>\n",
       "      <td>420</td>\n",
       "      <td>960952</td>\n",
       "      <td>960952</td>\n",
       "    </tr>\n",
       "  </tbody>\n",
       "</table>\n",
       "</div>"
      ],
      "text/plain": [
       "              State      District Domestic Foreigner    Total    total\n",
       "0  Himachal Pradesh      Bilaspur   253510         0   253510   253510\n",
       "1  Himachal Pradesh        Chamba   221819        69   221888   221888\n",
       "2  Himachal Pradesh      Hamirpur    60123         1    60124    60124\n",
       "3  Himachal Pradesh        Kangra   234251     2,701   236952   236952\n",
       "4  Himachal Pradesh       Kinnaur    59961       109    60070    60070\n",
       "5  Himachal Pradesh         Kullu  1647329       252  1647581  1647581\n",
       "6  Himachal Pradesh  Lahaul-spiti   960532       420   960952   960952"
      ]
     },
     "execution_count": 37,
     "metadata": {},
     "output_type": "execute_result"
    }
   ],
   "source": [
    "df2"
   ]
  },
  {
   "cell_type": "code",
   "execution_count": 52,
   "metadata": {},
   "outputs": [
    {
     "data": {
      "text/html": [
       "<div>\n",
       "<style scoped>\n",
       "    .dataframe tbody tr th:only-of-type {\n",
       "        vertical-align: middle;\n",
       "    }\n",
       "\n",
       "    .dataframe tbody tr th {\n",
       "        vertical-align: top;\n",
       "    }\n",
       "\n",
       "    .dataframe thead th {\n",
       "        text-align: right;\n",
       "    }\n",
       "</style>\n",
       "<table border=\"1\" class=\"dataframe\">\n",
       "  <thead>\n",
       "    <tr style=\"text-align: right;\">\n",
       "      <th></th>\n",
       "      <th>State</th>\n",
       "      <th>District</th>\n",
       "      <th>Domestic</th>\n",
       "      <th>Foreigner</th>\n",
       "      <th>Total</th>\n",
       "    </tr>\n",
       "  </thead>\n",
       "  <tbody>\n",
       "    <tr>\n",
       "      <th>0</th>\n",
       "      <td>Himachal Pradesh</td>\n",
       "      <td>Bilaspur</td>\n",
       "      <td>253510</td>\n",
       "      <td>0</td>\n",
       "      <td>253510</td>\n",
       "    </tr>\n",
       "    <tr>\n",
       "      <th>1</th>\n",
       "      <td>Himachal Pradesh</td>\n",
       "      <td>Chamba</td>\n",
       "      <td>221819</td>\n",
       "      <td>69</td>\n",
       "      <td>221888</td>\n",
       "    </tr>\n",
       "    <tr>\n",
       "      <th>2</th>\n",
       "      <td>Himachal Pradesh</td>\n",
       "      <td>Hamirpur</td>\n",
       "      <td>60123</td>\n",
       "      <td>1</td>\n",
       "      <td>60124</td>\n",
       "    </tr>\n",
       "    <tr>\n",
       "      <th>3</th>\n",
       "      <td>Himachal Pradesh</td>\n",
       "      <td>Kangra</td>\n",
       "      <td>234251</td>\n",
       "      <td>2701</td>\n",
       "      <td>236952</td>\n",
       "    </tr>\n",
       "    <tr>\n",
       "      <th>4</th>\n",
       "      <td>Himachal Pradesh</td>\n",
       "      <td>Kinnaur</td>\n",
       "      <td>59961</td>\n",
       "      <td>109</td>\n",
       "      <td>60070</td>\n",
       "    </tr>\n",
       "    <tr>\n",
       "      <th>5</th>\n",
       "      <td>Himachal Pradesh</td>\n",
       "      <td>Kullu</td>\n",
       "      <td>1647329</td>\n",
       "      <td>252</td>\n",
       "      <td>1647581</td>\n",
       "    </tr>\n",
       "    <tr>\n",
       "      <th>6</th>\n",
       "      <td>Himachal Pradesh</td>\n",
       "      <td>Lahaul-spiti</td>\n",
       "      <td>960532</td>\n",
       "      <td>420</td>\n",
       "      <td>960952</td>\n",
       "    </tr>\n",
       "  </tbody>\n",
       "</table>\n",
       "</div>"
      ],
      "text/plain": [
       "              State      District  Domestic Foreigner    Total\n",
       "0  Himachal Pradesh      Bilaspur    253510         0   253510\n",
       "1  Himachal Pradesh        Chamba    221819        69   221888\n",
       "2  Himachal Pradesh      Hamirpur     60123         1    60124\n",
       "3  Himachal Pradesh        Kangra    234251      2701   236952\n",
       "4  Himachal Pradesh       Kinnaur     59961       109    60070\n",
       "5  Himachal Pradesh         Kullu   1647329       252  1647581\n",
       "6  Himachal Pradesh  Lahaul-spiti    960532       420   960952"
      ]
     },
     "execution_count": 52,
     "metadata": {},
     "output_type": "execute_result"
    }
   ],
   "source": [
    "df2.drop('total',axis=1)"
   ]
  },
  {
   "cell_type": "code",
   "execution_count": 51,
   "metadata": {},
   "outputs": [
    {
     "name": "stderr",
     "output_type": "stream",
     "text": [
      "C:\\Users\\saksh\\AppData\\Local\\Temp\\ipykernel_22600\\1454086502.py:1: SettingWithCopyWarning: \n",
      "A value is trying to be set on a copy of a slice from a DataFrame.\n",
      "Try using .loc[row_indexer,col_indexer] = value instead\n",
      "\n",
      "See the caveats in the documentation: https://pandas.pydata.org/pandas-docs/stable/user_guide/indexing.html#returning-a-view-versus-a-copy\n",
      "  df2['Foreigner'] = df2['Foreigner'].str.replace(\",\",\"\")\n"
     ]
    }
   ],
   "source": [
    "df2['Foreigner'] = df2['Foreigner'].str.replace(\",\",\"\")"
   ]
  },
  {
   "cell_type": "code",
   "execution_count": 43,
   "metadata": {},
   "outputs": [
    {
     "name": "stderr",
     "output_type": "stream",
     "text": [
      "C:\\Users\\saksh\\AppData\\Local\\Temp\\ipykernel_22600\\1476693482.py:1: SettingWithCopyWarning: \n",
      "A value is trying to be set on a copy of a slice from a DataFrame.\n",
      "Try using .loc[row_indexer,col_indexer] = value instead\n",
      "\n",
      "See the caveats in the documentation: https://pandas.pydata.org/pandas-docs/stable/user_guide/indexing.html#returning-a-view-versus-a-copy\n",
      "  df2['Domestic']=df2['Domestic'].astype(int)\n"
     ]
    }
   ],
   "source": [
    "df2['Domestic']=df2['Domestic'].astype(int)"
   ]
  },
  {
   "cell_type": "code",
   "execution_count": 44,
   "metadata": {},
   "outputs": [
    {
     "data": {
      "text/plain": [
       "<AxesSubplot:xlabel='District', ylabel='Domestic'>"
      ]
     },
     "execution_count": 44,
     "metadata": {},
     "output_type": "execute_result"
    },
    {
     "data": {
      "image/png": "[encoded data removed]",
      "text/plain": [
       "<Figure size 432x288 with 1 Axes>"
      ]
     },
     "metadata": {
      "needs_background": "light"
     },
     "output_type": "display_data"
    }
   ],
   "source": [
    "sns.barplot(x='District',y='Domestic',data = df2)"
   ]
  },
  {
   "cell_type": "code",
   "execution_count": 57,
   "metadata": {},
   "outputs": [
    {
     "data": {
      "text/html": [
       "<div>\n",
       "<style scoped>\n",
       "    .dataframe tbody tr th:only-of-type {\n",
       "        vertical-align: middle;\n",
       "    }\n",
       "\n",
       "    .dataframe tbody tr th {\n",
       "        vertical-align: top;\n",
       "    }\n",
       "\n",
       "    .dataframe thead th {\n",
       "        text-align: right;\n",
       "    }\n",
       "</style>\n",
       "<table border=\"1\" class=\"dataframe\">\n",
       "  <thead>\n",
       "    <tr style=\"text-align: right;\">\n",
       "      <th></th>\n",
       "      <th>State</th>\n",
       "      <th>District</th>\n",
       "      <th>Domestic</th>\n",
       "      <th>Foreigner</th>\n",
       "      <th>Total</th>\n",
       "      <th>total</th>\n",
       "    </tr>\n",
       "  </thead>\n",
       "  <tbody>\n",
       "    <tr>\n",
       "      <th>0</th>\n",
       "      <td>Himachal Pradesh</td>\n",
       "      <td>Bilaspur</td>\n",
       "      <td>253510</td>\n",
       "      <td>0</td>\n",
       "      <td>253510</td>\n",
       "      <td>253510</td>\n",
       "    </tr>\n",
       "    <tr>\n",
       "      <th>1</th>\n",
       "      <td>Himachal Pradesh</td>\n",
       "      <td>Chamba</td>\n",
       "      <td>221819</td>\n",
       "      <td>69</td>\n",
       "      <td>221888</td>\n",
       "      <td>221888</td>\n",
       "    </tr>\n",
       "    <tr>\n",
       "      <th>2</th>\n",
       "      <td>Himachal Pradesh</td>\n",
       "      <td>Hamirpur</td>\n",
       "      <td>60123</td>\n",
       "      <td>1</td>\n",
       "      <td>60124</td>\n",
       "      <td>60124</td>\n",
       "    </tr>\n",
       "    <tr>\n",
       "      <th>3</th>\n",
       "      <td>Himachal Pradesh</td>\n",
       "      <td>Kangra</td>\n",
       "      <td>234251</td>\n",
       "      <td>2701</td>\n",
       "      <td>236952</td>\n",
       "      <td>236952</td>\n",
       "    </tr>\n",
       "    <tr>\n",
       "      <th>4</th>\n",
       "      <td>Himachal Pradesh</td>\n",
       "      <td>Kinnaur</td>\n",
       "      <td>59961</td>\n",
       "      <td>109</td>\n",
       "      <td>60070</td>\n",
       "      <td>60070</td>\n",
       "    </tr>\n",
       "    <tr>\n",
       "      <th>5</th>\n",
       "      <td>Himachal Pradesh</td>\n",
       "      <td>Kullu</td>\n",
       "      <td>1647329</td>\n",
       "      <td>252</td>\n",
       "      <td>1647581</td>\n",
       "      <td>1647581</td>\n",
       "    </tr>\n",
       "    <tr>\n",
       "      <th>6</th>\n",
       "      <td>Himachal Pradesh</td>\n",
       "      <td>Lahaul-spiti</td>\n",
       "      <td>960532</td>\n",
       "      <td>420</td>\n",
       "      <td>960952</td>\n",
       "      <td>960952</td>\n",
       "    </tr>\n",
       "  </tbody>\n",
       "</table>\n",
       "</div>"
      ],
      "text/plain": [
       "              State      District  Domestic Foreigner    Total    total\n",
       "0  Himachal Pradesh      Bilaspur    253510         0   253510   253510\n",
       "1  Himachal Pradesh        Chamba    221819        69   221888   221888\n",
       "2  Himachal Pradesh      Hamirpur     60123         1    60124    60124\n",
       "3  Himachal Pradesh        Kangra    234251      2701   236952   236952\n",
       "4  Himachal Pradesh       Kinnaur     59961       109    60070    60070\n",
       "5  Himachal Pradesh         Kullu   1647329       252  1647581  1647581\n",
       "6  Himachal Pradesh  Lahaul-spiti    960532       420   960952   960952"
      ]
     },
     "execution_count": 57,
     "metadata": {},
     "output_type": "execute_result"
    }
   ],
   "source": [
    "df2"
   ]
  },
  {
   "cell_type": "code",
   "execution_count": 74,
   "metadata": {},
   "outputs": [
    {
     "name": "stderr",
     "output_type": "stream",
     "text": [
      "C:\\Users\\saksh\\AppData\\Local\\Temp\\ipykernel_22600\\428875757.py:1: SettingWithCopyWarning: \n",
      "A value is trying to be set on a copy of a slice from a DataFrame.\n",
      "Try using .loc[row_indexer,col_indexer] = value instead\n",
      "\n",
      "See the caveats in the documentation: https://pandas.pydata.org/pandas-docs/stable/user_guide/indexing.html#returning-a-view-versus-a-copy\n",
      "  df2['Foreigner']=df2['Foreigner'].astype(int)\n"
     ]
    }
   ],
   "source": [
    "df2['Foreigner']=df2['Foreigner'].astype(int)"
   ]
  },
  {
   "cell_type": "code",
   "execution_count": 79,
   "metadata": {},
   "outputs": [
    {
     "data": {
      "text/plain": [
       "<AxesSubplot:xlabel='Foreigner', ylabel='Domestic'>"
      ]
     },
     "execution_count": 79,
     "metadata": {},
     "output_type": "execute_result"
    },
    {
     "data": {
      "image/png": "[encoded data removed]",
      "text/plain": [
       "<Figure size 432x288 with 1 Axes>"
      ]
     },
     "metadata": {
      "needs_background": "light"
     },
     "output_type": "display_data"
    }
   ],
   "source": [
    "sns.barplot(hue='District',x='Foreigner',y='Domestic' ,data = df2)"
   ]
  },
  {
   "cell_type": "markdown",
   "metadata": {},
   "source": [
    "observation : from this we under stand that number of domestic tourist visti is more in Kullu as compare to other plcaese but dont have much foreigner attraction but the place Kangra have less domestic tourist and have high foreigner  "
   ]
  },
  {
   "cell_type": "code",
   "execution_count": 82,
   "metadata": {},
   "outputs": [
    {
     "name": "stderr",
     "output_type": "stream",
     "text": [
      "C:\\Users\\saksh\\AppData\\Local\\Temp\\ipykernel_22600\\936200956.py:1: SettingWithCopyWarning: \n",
      "A value is trying to be set on a copy of a slice from a DataFrame.\n",
      "Try using .loc[row_indexer,col_indexer] = value instead\n",
      "\n",
      "See the caveats in the documentation: https://pandas.pydata.org/pandas-docs/stable/user_guide/indexing.html#returning-a-view-versus-a-copy\n",
      "  df2['Total'] = df2['Total'].astype(int)\n"
     ]
    }
   ],
   "source": [
    "df2['Total'] = df2['Total'].astype(int)"
   ]
  },
  {
   "cell_type": "code",
   "execution_count": 83,
   "metadata": {},
   "outputs": [
    {
     "data": {
      "text/plain": [
       "<AxesSubplot:xlabel='District', ylabel='Total'>"
      ]
     },
     "execution_count": 83,
     "metadata": {},
     "output_type": "execute_result"
    },
    {
     "data": {
      "image/png": "[encoded data removed]",
      "text/plain": [
       "<Figure size 432x288 with 1 Axes>"
      ]
     },
     "metadata": {
      "needs_background": "light"
     },
     "output_type": "display_data"
    }
   ],
   "source": [
    "sns.barplot(x='District',y='Total',data = df2)"
   ]
  },
  {
   "cell_type": "code",
   "execution_count": 96,
   "metadata": {},
   "outputs": [
    {
     "data": {
      "text/plain": [
       "([<matplotlib.patches.Wedge at 0x1969b77b100>,\n",
       "  <matplotlib.patches.Wedge at 0x1969b77b5e0>,\n",
       "  <matplotlib.patches.Wedge at 0x1969b77bac0>,\n",
       "  <matplotlib.patches.Wedge at 0x1969b77bf10>,\n",
       "  <matplotlib.patches.Wedge at 0x1969b78c430>,\n",
       "  <matplotlib.patches.Wedge at 0x1969b78c910>,\n",
       "  <matplotlib.patches.Wedge at 0x1969b78cd00>],\n",
       " [Text(1.0706087971330047, 0.25258029119751346, ''),\n",
       "  Text(0.864865274085766, 0.6797117460222041, ''),\n",
       "  Text(0.6631032493125288, 0.8776639908023836, ''),\n",
       "  Text(0.40596915073977197, 1.0223448775475077, ''),\n",
       "  Text(0.1197904813711874, 1.0934579281220012, ''),\n",
       "  Text(-1.0921418640530038, 0.13124842392512925, ''),\n",
       "  Text(0.7026951518721367, -0.8462975384197893, '')])"
      ]
     },
     "execution_count": 96,
     "metadata": {},
     "output_type": "execute_result"
    },
    {
     "data": {
      "image/png": "[encoded data removed]",
      "text/plain": [
       "<Figure size 432x288 with 1 Axes>"
      ]
     },
     "metadata": {},
     "output_type": "display_data"
    }
   ],
   "source": [
    "\n",
    "x = df2['Domestic']\n",
    "plt.pie(x,data=df2,)"
   ]
  },
  {
   "cell_type": "code",
   "execution_count": 97,
   "metadata": {},
   "outputs": [],
   "source": [
    "df1['Foreigner'] = df1['Foreigner'].str.replace(\",\",\"\")"
   ]
  },
  {
   "cell_type": "code",
   "execution_count": 98,
   "metadata": {},
   "outputs": [
    {
     "data": {
      "text/html": [
       "<div>\n",
       "<style scoped>\n",
       "    .dataframe tbody tr th:only-of-type {\n",
       "        vertical-align: middle;\n",
       "    }\n",
       "\n",
       "    .dataframe tbody tr th {\n",
       "        vertical-align: top;\n",
       "    }\n",
       "\n",
       "    .dataframe thead th {\n",
       "        text-align: right;\n",
       "    }\n",
       "</style>\n",
       "<table border=\"1\" class=\"dataframe\">\n",
       "  <thead>\n",
       "    <tr style=\"text-align: right;\">\n",
       "      <th></th>\n",
       "      <th>State</th>\n",
       "      <th>District</th>\n",
       "      <th>Domestic</th>\n",
       "      <th>Foreigner</th>\n",
       "      <th>Total</th>\n",
       "    </tr>\n",
       "  </thead>\n",
       "  <tbody>\n",
       "    <tr>\n",
       "      <th>0</th>\n",
       "      <td>Himachal Pradesh</td>\n",
       "      <td>Bilaspur</td>\n",
       "      <td>2,53,510</td>\n",
       "      <td>0</td>\n",
       "      <td>2,53,510</td>\n",
       "    </tr>\n",
       "    <tr>\n",
       "      <th>1</th>\n",
       "      <td>Himachal Pradesh</td>\n",
       "      <td>Chamba</td>\n",
       "      <td>2,21,819</td>\n",
       "      <td>69</td>\n",
       "      <td>2,21,888</td>\n",
       "    </tr>\n",
       "    <tr>\n",
       "      <th>2</th>\n",
       "      <td>Himachal Pradesh</td>\n",
       "      <td>Hamirpur</td>\n",
       "      <td>60,123</td>\n",
       "      <td>1</td>\n",
       "      <td>60,124</td>\n",
       "    </tr>\n",
       "    <tr>\n",
       "      <th>3</th>\n",
       "      <td>Himachal Pradesh</td>\n",
       "      <td>Kangra</td>\n",
       "      <td>2,34,251</td>\n",
       "      <td>2701</td>\n",
       "      <td>2,36,952</td>\n",
       "    </tr>\n",
       "    <tr>\n",
       "      <th>4</th>\n",
       "      <td>Himachal Pradesh</td>\n",
       "      <td>Kinnaur</td>\n",
       "      <td>59,961</td>\n",
       "      <td>109</td>\n",
       "      <td>60,070</td>\n",
       "    </tr>\n",
       "    <tr>\n",
       "      <th>5</th>\n",
       "      <td>Himachal Pradesh</td>\n",
       "      <td>Kullu</td>\n",
       "      <td>16,47,329</td>\n",
       "      <td>252</td>\n",
       "      <td>16,47,581</td>\n",
       "    </tr>\n",
       "    <tr>\n",
       "      <th>6</th>\n",
       "      <td>Himachal Pradesh</td>\n",
       "      <td>Lahaul-spiti</td>\n",
       "      <td>9,60,532</td>\n",
       "      <td>420</td>\n",
       "      <td>9,60,952</td>\n",
       "    </tr>\n",
       "    <tr>\n",
       "      <th>7</th>\n",
       "      <td>Himachal Pradesh</td>\n",
       "      <td>Mandi</td>\n",
       "      <td>3,97,829</td>\n",
       "      <td>149</td>\n",
       "      <td>3,97,978</td>\n",
       "    </tr>\n",
       "    <tr>\n",
       "      <th>8</th>\n",
       "      <td>Himachal Pradesh</td>\n",
       "      <td>Shimla</td>\n",
       "      <td>9,51,792</td>\n",
       "      <td>825</td>\n",
       "      <td>9,52,617</td>\n",
       "    </tr>\n",
       "    <tr>\n",
       "      <th>9</th>\n",
       "      <td>Himachal Pradesh</td>\n",
       "      <td>Sirmaur</td>\n",
       "      <td>4,00,934</td>\n",
       "      <td>28</td>\n",
       "      <td>4,00,962</td>\n",
       "    </tr>\n",
       "    <tr>\n",
       "      <th>10</th>\n",
       "      <td>Himachal Pradesh</td>\n",
       "      <td>Solan</td>\n",
       "      <td>3,82,362</td>\n",
       "      <td>278</td>\n",
       "      <td>3,82,640</td>\n",
       "    </tr>\n",
       "    <tr>\n",
       "      <th>11</th>\n",
       "      <td>Himachal Pradesh</td>\n",
       "      <td>Una</td>\n",
       "      <td>61,828</td>\n",
       "      <td>0</td>\n",
       "      <td>61,828</td>\n",
       "    </tr>\n",
       "    <tr>\n",
       "      <th>12</th>\n",
       "      <td>Himachal Pradesh</td>\n",
       "      <td>Total</td>\n",
       "      <td>56,32,270</td>\n",
       "      <td>4832</td>\n",
       "      <td>56,37,102</td>\n",
       "    </tr>\n",
       "  </tbody>\n",
       "</table>\n",
       "</div>"
      ],
      "text/plain": [
       "               State      District   Domestic Foreigner      Total\n",
       "0   Himachal Pradesh      Bilaspur   2,53,510         0   2,53,510\n",
       "1   Himachal Pradesh        Chamba   2,21,819        69   2,21,888\n",
       "2   Himachal Pradesh      Hamirpur     60,123         1     60,124\n",
       "3   Himachal Pradesh        Kangra   2,34,251      2701   2,36,952\n",
       "4   Himachal Pradesh       Kinnaur     59,961       109     60,070\n",
       "5   Himachal Pradesh         Kullu  16,47,329       252  16,47,581\n",
       "6   Himachal Pradesh  Lahaul-spiti   9,60,532       420   9,60,952\n",
       "7   Himachal Pradesh         Mandi   3,97,829       149   3,97,978\n",
       "8   Himachal Pradesh        Shimla   9,51,792       825   9,52,617\n",
       "9   Himachal Pradesh       Sirmaur   4,00,934        28   4,00,962\n",
       "10  Himachal Pradesh         Solan   3,82,362       278   3,82,640\n",
       "11  Himachal Pradesh           Una     61,828         0     61,828\n",
       "12  Himachal Pradesh         Total  56,32,270      4832  56,37,102"
      ]
     },
     "execution_count": 98,
     "metadata": {},
     "output_type": "execute_result"
    }
   ],
   "source": [
    "df1"
   ]
  },
  {
   "cell_type": "code",
   "execution_count": 100,
   "metadata": {},
   "outputs": [],
   "source": [
    "df1['Foreigner'] = df1['Foreigner'].astype(int)"
   ]
  },
  {
   "cell_type": "code",
   "execution_count": 104,
   "metadata": {},
   "outputs": [
    {
     "data": {
      "text/plain": [
       "<AxesSubplot:xlabel='District', ylabel='Foreigner'>"
      ]
     },
     "execution_count": 104,
     "metadata": {},
     "output_type": "execute_result"
    },
    {
     "data": {
      "image/png": "[encoded data removed]",
      "text/plain": [
       "<Figure size 432x288 with 1 Axes>"
      ]
     },
     "metadata": {
      "needs_background": "light"
     },
     "output_type": "display_data"
    }
   ],
   "source": [
    "sns.barplot(x= 'District',y='Foreigner',data = df1)"
   ]
  },
  {
   "cell_type": "code",
   "execution_count": 111,
   "metadata": {},
   "outputs": [],
   "source": [
    "df1['District'] = df1['District'].map({'Bilaspur':1,'Chamba':2,'Hamirpur':3,'Kangra':4,'Kinnaur':5,'Kullu':6,'Lahaul-spiti':7,'Mandi':8,'Shimla':9,'Sirmaur':10,'Solan':11,'Una':12})"
   ]
  },
  {
   "cell_type": "code",
   "execution_count": 112,
   "metadata": {},
   "outputs": [
    {
     "data": {
      "text/plain": [
       "<AxesSubplot:xlabel='District', ylabel='Foreigner'>"
      ]
     },
     "execution_count": 112,
     "metadata": {},
     "output_type": "execute_result"
    },
    {
     "data": {
      "image/png": "[encoded data removed]",
      "text/plain": [
       "<Figure size 432x288 with 1 Axes>"
      ]
     },
     "metadata": {
      "needs_background": "light"
     },
     "output_type": "display_data"
    }
   ],
   "source": [
    "sns.barplot(x= 'District',y='Foreigner',data = df1)"
   ]
  },
  {
   "cell_type": "markdown",
   "metadata": {},
   "source": [
    "'Bilaspur':1,'Chamba':2,'Hamirpur':3,'Kangra':4,'Kinnaur':5,'Kullu':6,'Lahaul-spiti':7,'Mandi':8,'Shimla':9,'Sirmaur':10,'Solan':11,'Una':12\n",
    "observation : from this we understood that maximam amout of foreigner visit is at Kangar as compare to other place and it is much more than other placese "
   ]
  },
  {
   "cell_type": "code",
   "execution_count": 117,
   "metadata": {},
   "outputs": [],
   "source": [
    "df1['Domestic'] = df1['Domestic'].str.replace(\",\",\"\")\n",
    "df1['Domestic'] = df1['Domestic'].astype(int)"
   ]
  },
  {
   "cell_type": "code",
   "execution_count": 118,
   "metadata": {},
   "outputs": [
    {
     "data": {
      "text/plain": [
       "<AxesSubplot:xlabel='District', ylabel='Domestic'>"
      ]
     },
     "execution_count": 118,
     "metadata": {},
     "output_type": "execute_result"
    },
    {
     "data": {
      "image/png": "[encoded data removed]",
      "text/plain": [
       "<Figure size 432x288 with 1 Axes>"
      ]
     },
     "metadata": {
      "needs_background": "light"
     },
     "output_type": "display_data"
    }
   ],
   "source": [
    "sns.barplot(x= 'District',y='Domestic',data = df1)"
   ]
  },
  {
   "cell_type": "markdown",
   "metadata": {},
   "source": [
    "'Bilaspur':1,'Chamba':2,'Hamirpur':3,'Kangra':4,'Kinnaur':5,'Kullu':6,'Lahaul-spiti':7,'Mandi':8,'Shimla':9,'Sirmaur':10,'Solan':11,'Una':12\n",
    "observation : Lahual-spiti is place us most visited by the Domestic"
   ]
  },
  {
   "cell_type": "code",
   "execution_count": 120,
   "metadata": {},
   "outputs": [
    {
     "data": {
      "text/plain": [
       "<AxesSubplot:xlabel='Foreigner', ylabel='Domestic'>"
      ]
     },
     "execution_count": 120,
     "metadata": {},
     "output_type": "execute_result"
    },
    {
     "data": {
      "image/png": "[encoded data removed]",
      "text/plain": [
       "<Figure size 432x288 with 1 Axes>"
      ]
     },
     "metadata": {
      "needs_background": "light"
     },
     "output_type": "display_data"
    }
   ],
   "source": [
    "sns.barplot(hue= 'District',y='Domestic',x = 'Foreigner',data = df1)"
   ]
  },
  {
   "cell_type": "markdown",
   "metadata": {},
   "source": [
    "'Bilaspur':1,'Chamba':2,'Hamirpur':3,'Kangra':4,'Kinnaur':5,'Kullu':6,'Lahaul-spiti':7,'Mandi':8,'Shimla':9,'Sirmaur':10,'Solan':11,'Una':12\n",
    "observation : from this we got that kangar is visted by hight amout of foriegenr tourist as compare Domestic and kullu is visited most by indain "
   ]
  },
  {
   "cell_type": "code",
   "execution_count": null,
   "metadata": {},
   "outputs": [],
   "source": [
    "'Bilaspur':1,'Chamba':2,'Hamirpur':3,'Kangra':4,'Kinnaur':5,'Kullu':6,'Lahaul-spiti':7,'Mandi':8,'Shimla':9,'Sirmaur':10,'Solan':11,'Una':12"
   ]
  },
  {
   "cell_type": "code",
   "execution_count": 124,
   "metadata": {},
   "outputs": [],
   "source": [
    "df3 = pd.read_csv('Number-of-Registered-Hotels-Guest-Houses-during-2021.csv')"
   ]
  },
  {
   "cell_type": "code",
   "execution_count": 125,
   "metadata": {},
   "outputs": [
    {
     "data": {
      "text/plain": [
       "(13, 4)"
      ]
     },
     "execution_count": 125,
     "metadata": {},
     "output_type": "execute_result"
    }
   ],
   "source": [
    "df3.shape"
   ]
  },
  {
   "cell_type": "code",
   "execution_count": 126,
   "metadata": {},
   "outputs": [
    {
     "data": {
      "text/html": [
       "<div>\n",
       "<style scoped>\n",
       "    .dataframe tbody tr th:only-of-type {\n",
       "        vertical-align: middle;\n",
       "    }\n",
       "\n",
       "    .dataframe tbody tr th {\n",
       "        vertical-align: top;\n",
       "    }\n",
       "\n",
       "    .dataframe thead th {\n",
       "        text-align: right;\n",
       "    }\n",
       "</style>\n",
       "<table border=\"1\" class=\"dataframe\">\n",
       "  <thead>\n",
       "    <tr style=\"text-align: right;\">\n",
       "      <th></th>\n",
       "      <th>State</th>\n",
       "      <th>District</th>\n",
       "      <th>Number of Hotels/Guest Houses</th>\n",
       "      <th>Bed capacity (in Number)</th>\n",
       "    </tr>\n",
       "  </thead>\n",
       "  <tbody>\n",
       "    <tr>\n",
       "      <th>0</th>\n",
       "      <td>Himachal Pradesh</td>\n",
       "      <td>Bilaspur</td>\n",
       "      <td>88</td>\n",
       "      <td>1793</td>\n",
       "    </tr>\n",
       "    <tr>\n",
       "      <th>1</th>\n",
       "      <td>Himachal Pradesh</td>\n",
       "      <td>Chamba</td>\n",
       "      <td>267</td>\n",
       "      <td>6590</td>\n",
       "    </tr>\n",
       "    <tr>\n",
       "      <th>2</th>\n",
       "      <td>Himachal Pradesh</td>\n",
       "      <td>Hamirpur</td>\n",
       "      <td>70</td>\n",
       "      <td>1054</td>\n",
       "    </tr>\n",
       "    <tr>\n",
       "      <th>3</th>\n",
       "      <td>Himachal Pradesh</td>\n",
       "      <td>Kangra</td>\n",
       "      <td>807</td>\n",
       "      <td>20156</td>\n",
       "    </tr>\n",
       "    <tr>\n",
       "      <th>4</th>\n",
       "      <td>Himachal Pradesh</td>\n",
       "      <td>Kinnaur</td>\n",
       "      <td>150</td>\n",
       "      <td>4774</td>\n",
       "    </tr>\n",
       "    <tr>\n",
       "      <th>5</th>\n",
       "      <td>Himachal Pradesh</td>\n",
       "      <td>Kullu</td>\n",
       "      <td>1189</td>\n",
       "      <td>33976</td>\n",
       "    </tr>\n",
       "    <tr>\n",
       "      <th>6</th>\n",
       "      <td>Himachal Pradesh</td>\n",
       "      <td>Lahaul-spiti</td>\n",
       "      <td>127</td>\n",
       "      <td>3320</td>\n",
       "    </tr>\n",
       "    <tr>\n",
       "      <th>7</th>\n",
       "      <td>Himachal Pradesh</td>\n",
       "      <td>Mandi</td>\n",
       "      <td>238</td>\n",
       "      <td>4405</td>\n",
       "    </tr>\n",
       "    <tr>\n",
       "      <th>8</th>\n",
       "      <td>Himachal Pradesh</td>\n",
       "      <td>Shimla</td>\n",
       "      <td>556</td>\n",
       "      <td>19600</td>\n",
       "    </tr>\n",
       "    <tr>\n",
       "      <th>9</th>\n",
       "      <td>Himachal Pradesh</td>\n",
       "      <td>Sirmaur</td>\n",
       "      <td>126</td>\n",
       "      <td>3011</td>\n",
       "    </tr>\n",
       "    <tr>\n",
       "      <th>10</th>\n",
       "      <td>Himachal Pradesh</td>\n",
       "      <td>Solan</td>\n",
       "      <td>362</td>\n",
       "      <td>10602</td>\n",
       "    </tr>\n",
       "    <tr>\n",
       "      <th>11</th>\n",
       "      <td>Himachal Pradesh</td>\n",
       "      <td>Una</td>\n",
       "      <td>118</td>\n",
       "      <td>2544</td>\n",
       "    </tr>\n",
       "    <tr>\n",
       "      <th>12</th>\n",
       "      <td>Himachal Pradesh</td>\n",
       "      <td>Total</td>\n",
       "      <td>4098</td>\n",
       "      <td>111825</td>\n",
       "    </tr>\n",
       "  </tbody>\n",
       "</table>\n",
       "</div>"
      ],
      "text/plain": [
       "               State      District  Number of Hotels/Guest Houses  \\\n",
       "0   Himachal Pradesh      Bilaspur                             88   \n",
       "1   Himachal Pradesh        Chamba                            267   \n",
       "2   Himachal Pradesh      Hamirpur                             70   \n",
       "3   Himachal Pradesh        Kangra                            807   \n",
       "4   Himachal Pradesh       Kinnaur                            150   \n",
       "5   Himachal Pradesh         Kullu                           1189   \n",
       "6   Himachal Pradesh  Lahaul-spiti                            127   \n",
       "7   Himachal Pradesh         Mandi                            238   \n",
       "8   Himachal Pradesh        Shimla                            556   \n",
       "9   Himachal Pradesh       Sirmaur                            126   \n",
       "10  Himachal Pradesh         Solan                            362   \n",
       "11  Himachal Pradesh           Una                            118   \n",
       "12  Himachal Pradesh         Total                           4098   \n",
       "\n",
       "    Bed capacity (in Number)  \n",
       "0                       1793  \n",
       "1                       6590  \n",
       "2                       1054  \n",
       "3                      20156  \n",
       "4                       4774  \n",
       "5                      33976  \n",
       "6                       3320  \n",
       "7                       4405  \n",
       "8                      19600  \n",
       "9                       3011  \n",
       "10                     10602  \n",
       "11                      2544  \n",
       "12                    111825  "
      ]
     },
     "execution_count": 126,
     "metadata": {},
     "output_type": "execute_result"
    }
   ],
   "source": [
    "df3"
   ]
  },
  {
   "cell_type": "code",
   "execution_count": 127,
   "metadata": {},
   "outputs": [],
   "source": [
    "df3['District'] = df3['District'].map({'Bilaspur':1,'Chamba':2,'Hamirpur':3,'Kangra':4,'Kinnaur':5,'Kullu':6,'Lahaul-spiti':7,'Mandi':8,'Shimla':9,'Sirmaur':10,'Solan':11,'Una':12})"
   ]
  },
  {
   "cell_type": "code",
   "execution_count": 132,
   "metadata": {},
   "outputs": [
    {
     "data": {
      "text/plain": [
       "<AxesSubplot:xlabel='District', ylabel='Number of Hotels/Guest Houses'>"
      ]
     },
     "execution_count": 132,
     "metadata": {},
     "output_type": "execute_result"
    },
    {
     "data": {
      "image/png": "[encoded data removed]",
      "text/plain": [
       "<Figure size 432x288 with 1 Axes>"
      ]
     },
     "metadata": {
      "needs_background": "light"
     },
     "output_type": "display_data"
    }
   ],
   "source": [
    "sns.barplot(x=df3['District'],y=df3['Number of Hotels/Guest Houses'],data= df3)"
   ]
  },
  {
   "cell_type": "markdown",
   "metadata": {},
   "source": [
    "obervation : maximum aomut of hotel are more in kullu and kangar has 2 top amout of hotel but the visit of domestic pepople is less in this kangar"
   ]
  },
  {
   "cell_type": "code",
   "execution_count": 133,
   "metadata": {},
   "outputs": [
    {
     "data": {
      "text/plain": [
       "<AxesSubplot:xlabel='District', ylabel='Bed capacity (in Number)'>"
      ]
     },
     "execution_count": 133,
     "metadata": {},
     "output_type": "execute_result"
    },
    {
     "data": {
      "image/png": "[encoded data removed]",
      "text/plain": [
       "<Figure size 432x288 with 1 Axes>"
      ]
     },
     "metadata": {
      "needs_background": "light"
     },
     "output_type": "display_data"
    }
   ],
   "source": [
    "sns.barplot(x=df3['District'],y=df3['Bed capacity (in Number)'],data=df3)"
   ]
  },
  {
   "cell_type": "markdown",
   "metadata": {},
   "source": [
    "in this observation we can see there is grow in number of bed in simaur but they have less amout of hotel as cokmapre to kangar but  have almost same amout of bed "
   ]
  },
  {
   "cell_type": "markdown",
   "metadata": {},
   "source": [
    "form all of this observation we can seen that place like kangar have less maout of people travle and more amout of hotel"
   ]
  },
  {
   "cell_type": "markdown",
   "metadata": {},
   "source": [
    "places like simla have less amout of bed but have more aomut of toruist visited to it "
   ]
  },
  {
   "cell_type": "code",
   "execution_count": null,
   "metadata": {},
   "outputs": [],
   "source": []
  }
 ],
 "metadata": {
  "kernelspec": {
   "display_name": "Python 3.10.5 64-bit",
   "language": "python",
   "name": "python3"
  },
  "language_info": {
   "codemirror_mode": {
    "name": "ipython",
    "version": 3
   },
   "file_extension": ".py",
   "mimetype": "text/x-python",
   "name": "python",
   "nbconvert_exporter": "python",
   "pygments_lexer": "ipython3",
   "version": "3.10.5"
  },
  "orig_nbformat": 4,
  "vscode": {
   "interpreter": {
    "hash": "b391e30338597a82e75bec97af1c333c6f7450c1c30a079ac81c80bd19bf1984"
   }
  }
 },
 "nbformat": 4,
 "nbformat_minor": 2
}
